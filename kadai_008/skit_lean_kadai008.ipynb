{
  "nbformat": 4,
  "nbformat_minor": 0,
  "metadata": {
    "colab": {
      "provenance": []
    },
    "kernelspec": {
      "name": "python3",
      "display_name": "Python 3"
    },
    "language_info": {
      "name": "python"
    }
  },
  "cells": [
    {
      "cell_type": "code",
      "execution_count": 8,
      "metadata": {
        "colab": {
          "base_uri": "https://localhost:8080/"
        },
        "id": "Rz9Tq-L90oOn",
        "outputId": "02e46928-2bd5-48d8-bb22-49246c58b175"
      },
      "outputs": [
        {
          "output_type": "execute_result",
          "data": {
            "text/plain": [
              "0.9629629629629629"
            ]
          },
          "metadata": {},
          "execution_count": 8
        }
      ],
      "source": [
        "from sklearn.datasets import load_wine\n",
        "import pandas as pd\n",
        "\n",
        "# サンプルデータの取得\n",
        "dataset = load_wine()\n",
        "\n",
        "# データの可読性を向上させるためにpandasを利用\n",
        "# 今回は不要だが、後から見返すために残す\n",
        "df = pd.DataFrame(data = dataset.data, columns = dataset.feature_names)\n",
        "\n",
        "# ワインの種別を表に表示\n",
        "# こちらも課題には不要\n",
        "df['category'] = dataset.target\n",
        "\n",
        "# サンプルデータの分割\n",
        "X = dataset.data\n",
        "y = dataset.target\n",
        "from sklearn.model_selection import train_test_split\n",
        "train_test_split(X, y, test_size = 0.3, random_state = 5)\n",
        "\n",
        "# Xとyの学習データとテストデータを変数に代入\n",
        "X_train, X_test, y_train, y_test = train_test_split(X, y, test_size=0.3, random_state=5)\n",
        "\n",
        "# 予測モデルのインスタンス化\n",
        "from sklearn.ensemble import RandomForestClassifier\n",
        "model = RandomForestClassifier(random_state=3)\n",
        "\n",
        "# 予測モデルの学習\n",
        "model.fit(X_train, y_train)\n",
        "\n",
        "# 予測モデルの評価 predは予測するの意のpredictの短縮形\n",
        "y_pred = model.predict(X_test)\n",
        "y_pred\n",
        "y_test\n",
        "\n",
        "# 予測モデルの的中率を評価\n",
        "accuracy_score(y_test, y_pred)"
      ]
    }
  ]
}